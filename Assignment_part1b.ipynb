{
 "cells": [
  {
   "cell_type": "markdown",
   "metadata": {},
   "source": [
    "## Introduction"
   ]
  },
  {
   "cell_type": "markdown",
   "metadata": {},
   "source": [
    "I want to apply new skills to try to solve my own needs. Right now, I’m considering a change of place of living and potentially move to a completely new neighborhood in the same city. I live in Moscow, Russia. Moscow is a big city with diverse set of environments. The ultimate problem I will be trying to solve is area classification within the city."
   ]
  },
  {
   "cell_type": "markdown",
   "metadata": {},
   "source": [
    "## Business Problem"
   ]
  },
  {
   "cell_type": "markdown",
   "metadata": {},
   "source": [
    "Data driven decisions are good decisions. Can i use available data to help myself and other people with making right choice for changing their environment? Selling old and buying a new apartments flat is significant and nervous decision in people’s lives. Giving more confidence and guiding decisions can be something which people will be looking for. Decision and confidence increase can be achieved with the reduction of uncertainty of area of future living. What are the schools in the area, are there any theatres? how good the cafes are? Several typical questions in peoples mind before going to new area. Ultimately there are so **many** areas to look for a new flat in a big city. The business question will be if the data can be used to shrink down the area of search and help to save time and reduce uncertainty around expectations. This can be achieved through clustering city into areas with similar attributes so people won’t waste their time for looking for a place to live in the area which might not fit for their expectations. Rather focus on the areas with expected presence of the priorities of choice.  "
   ]
  }
 ],
 "metadata": {
  "kernelspec": {
   "display_name": "Python 3",
   "language": "python",
   "name": "python3"
  },
  "language_info": {
   "codemirror_mode": {
    "name": "ipython",
    "version": 3
   },
   "file_extension": ".py",
   "mimetype": "text/x-python",
   "name": "python",
   "nbconvert_exporter": "python",
   "pygments_lexer": "ipython3",
   "version": "3.7.6"
  }
 },
 "nbformat": 4,
 "nbformat_minor": 4
}

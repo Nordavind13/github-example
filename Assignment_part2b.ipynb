{
 "cells": [
  {
   "cell_type": "markdown",
   "metadata": {},
   "source": [
    "## Data"
   ]
  },
  {
   "cell_type": "markdown",
   "metadata": {},
   "source": [
    "I’m going to use metro stations and it’s coordinates as a central point for getting data. I’m going to search for the data for different types of venues like café, museums, schools, universities etc in a radius from each metro point. Average flat costs associated to each metro will be incorporated into data analysis as well. This information can be easily found on the web with free access.  \n",
    "\n",
    "I plan to get information like number of venues of different type, average rating for venue type and number of votes within the radius. As a result, I plan to have a matrix of metro as each row and acquired and processed data as columns. The data on venues can be acquired from data provider API. High-level screening suggests that FourthSquare is not very well present in the city for my purposes. I plan to spend some time to understand if I can use alternative suppliers (Google, Yandex etc)  \n",
    "\n",
    "Garbage in - Garbage out. Once the data will be acquired it might need some editing and processing. Several questions to be addressed – how to treat NaN numbers, how to average data for each metro or if any additional manipulations are required. Data normalization another potentially important subject for testing.  \n",
    "\n",
    "Acquired and processed data will be used for clustering. I plan to connect data processing and clustering stages to play around the data normalization and some other parameters and how they affect the outcome of clustering.\n",
    "Finally, the maps of clusters will be built and cluster descriptions will be provides as an option for selection to influence decision of area for movement. \n"
   ]
  }
 ],
 "metadata": {
  "kernelspec": {
   "display_name": "Python 3",
   "language": "python",
   "name": "python3"
  },
  "language_info": {
   "codemirror_mode": {
    "name": "ipython",
    "version": 3
   },
   "file_extension": ".py",
   "mimetype": "text/x-python",
   "name": "python",
   "nbconvert_exporter": "python",
   "pygments_lexer": "ipython3",
   "version": "3.7.6"
  }
 },
 "nbformat": 4,
 "nbformat_minor": 4
}
